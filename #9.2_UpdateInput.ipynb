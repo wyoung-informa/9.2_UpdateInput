{
 "cells": [
  {
   "cell_type": "code",
   "execution_count": 1,
   "metadata": {},
   "outputs": [],
   "source": [
    "import psycopg2 as p\n",
    "import glob, os, csv, time\n",
    "from datetime import datetime"
   ]
  },
  {
   "cell_type": "code",
   "execution_count": 15,
   "metadata": {},
   "outputs": [],
   "source": [
    "start_time = time.time()"
   ]
  },
  {
   "cell_type": "code",
   "execution_count": 27,
   "metadata": {},
   "outputs": [
    {
     "name": "stdout",
     "output_type": "stream",
     "text": [
      "\\\\informaplc.sharepoint.com@SSL\\DavWWWRoot\\sites\\GAATLFS1\\Shared Documents\\FleetSeek Atlanta\\ETL_updates\\Update_input\\Update_output 2020_03_02 14_46_30.csv\n"
     ]
    }
   ],
   "source": [
    "# * means all if need specific format then *.csv\n",
    "list_of_files = glob.glob(r'\\\\informaplc.sharepoint.com@SSL\\DavWWWRoot\\sites\\GAATLFS1\\Shared Documents\\FleetSeek Atlanta\\ETL_updates\\Update_input\\*.csv') \n",
    "\n",
    "# Finds the oldest file in that list to insert\n",
    "oldest_csv_file = max(list_of_files, key=os.path.getctime)\n",
    "\n",
    "print(oldest_csv_file)"
   ]
  },
  {
   "cell_type": "code",
   "execution_count": 22,
   "metadata": {},
   "outputs": [],
   "source": [
    "# This cell writes a tab delimited text file for insertion into the update_input table\n",
    "\n",
    "file_base = os.path.splitext(oldest_csv_file)[0]\n",
    "\n",
    "with open(oldest_csv_file, 'r') as fin, open(file_base +'.txt', 'w', newline = '') as fout:\n",
    "    reader = csv.DictReader(fin)\n",
    "    writer = csv.DictWriter(fout, reader.fieldnames, delimiter='\\t', lineterminator = '\\n')\n",
    "    writer.writerows(reader)"
   ]
  },
  {
   "cell_type": "code",
   "execution_count": 23,
   "metadata": {},
   "outputs": [
    {
     "data": {
      "text/plain": [
       "'\\\\\\\\informaplc.sharepoint.com@SSL\\\\DavWWWRoot\\\\sites\\\\GAATLFS1\\\\Shared Documents\\\\FleetSeek Atlanta\\\\ETL_updates\\\\Update_input\\\\Update_output 2020_03_02 14_46_30'"
      ]
     },
     "execution_count": 23,
     "metadata": {},
     "output_type": "execute_result"
    }
   ],
   "source": [
    "file_base"
   ]
  },
  {
   "cell_type": "code",
   "execution_count": 24,
   "metadata": {},
   "outputs": [
    {
     "name": "stdout",
     "output_type": "stream",
     "text": [
      "\\\\informaplc.sharepoint.com@SSL\\DavWWWRoot\\sites\\GAATLFS1\\Shared Documents\\FleetSeek Atlanta\\ETL_updates\\Update_input\\Update_output 2020_03_02 14_46_30.txt\n"
     ]
    }
   ],
   "source": [
    "text_list = glob.glob(r'\\\\informaplc.sharepoint.com@SSL\\DavWWWRoot\\sites\\GAATLFS1\\Shared Documents\\FleetSeek Atlanta\\ETL_updates\\Update_input\\*.txt')\n",
    "newest_txt_file = max(text_list, key=os.path.getctime)\n",
    "print(newest_txt_file)"
   ]
  },
  {
   "cell_type": "code",
   "execution_count": 25,
   "metadata": {},
   "outputs": [],
   "source": [
    "password = '*****'\n",
    "\n",
    "conn = p.connect(database = 'postgres', user = 'postgres', password = password, \n",
    "                       host = 'localhost', port = 5433)\n",
    "\n",
    "cur = conn.cursor()"
   ]
  },
  {
   "cell_type": "code",
   "execution_count": 26,
   "metadata": {},
   "outputs": [],
   "source": [
    "with open(newest_txt_file, 'r') as f:\n",
    "    cur.copy_from(f ,'fleetseek.update_input', sep = '\\t', null = '')\n",
    "    conn.commit()"
   ]
  },
  {
   "cell_type": "code",
   "execution_count": null,
   "metadata": {},
   "outputs": [],
   "source": [
    "end_time = time.time() - start_time"
   ]
  },
  {
   "cell_type": "code",
   "execution_count": null,
   "metadata": {},
   "outputs": [],
   "source": [
    "print(end_time)"
   ]
  },
  {
   "cell_type": "code",
   "execution_count": null,
   "metadata": {},
   "outputs": [],
   "source": [
    "# Still need to write a script to move processed files to processed"
   ]
  },
  {
   "cell_type": "code",
   "execution_count": 13,
   "metadata": {},
   "outputs": [
    {
     "name": "stdout",
     "output_type": "stream",
     "text": [
      "2020-2-19\n"
     ]
    }
   ],
   "source": [
    "d = datetime.now()\n",
    "print(str(d.year) + '-' + str(d.month) + '-' + str(d.day))"
   ]
  }
 ],
 "metadata": {
  "kernelspec": {
   "display_name": "Python 3",
   "language": "python",
   "name": "python3"
  },
  "language_info": {
   "codemirror_mode": {
    "name": "ipython",
    "version": 3
   },
   "file_extension": ".py",
   "mimetype": "text/x-python",
   "name": "python",
   "nbconvert_exporter": "python",
   "pygments_lexer": "ipython3",
   "version": "3.7.4"
  }
 },
 "nbformat": 4,
 "nbformat_minor": 4
}
